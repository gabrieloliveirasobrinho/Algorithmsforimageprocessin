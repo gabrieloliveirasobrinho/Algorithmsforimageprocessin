{
  "nbformat": 4,
  "nbformat_minor": 0,
  "metadata": {
    "colab": {
      "name": "Lista3.ipynb",
      "provenance": []
    },
    "kernelspec": {
      "name": "python3",
      "display_name": "Python 3"
    }
  },
  "cells": [
    {
      "cell_type": "markdown",
      "metadata": {
        "id": "F_xw6Wacn8Fr"
      },
      "source": [
        "\n",
        "# **Lista 03 Processamento Digital de Imagens**\n",
        "Professora: Mylene Farias\n",
        "\n",
        "Monitores: André da Costa e Lucas Althoff\n",
        "\n",
        "---"
      ]
    },
    {
      "cell_type": "markdown",
      "metadata": {
        "id": "fcreOtPln_wM"
      },
      "source": [
        "# Problema 1\n",
        "Para esta questão, baixe as imagens baixo, utilizando-as para os problemas a seguir.\n",
        "\n",
        "*   [imagem corrompida 01](https://drive.google.com/file/d/1Khm0oKhXMsYkOrQ-4Yj_1qZ_fz89WaFo/view?usp=sharing)\n",
        "*   [imagem corrompida 02](https://drive.google.com/file/d/15-btecYUdm_30qcquGMoZiBrJPW1G2ky/view?usp=sharing)\n",
        "\n",
        "\n",
        "\n"
      ]
    },
    {
      "cell_type": "markdown",
      "metadata": {
        "id": "nDgKPkZmPls8"
      },
      "source": [
        "**1.1.** \n",
        "A imagem  imagem corrompida 01 (disponibilizada no link acima) está degradada com ruído senoidal. Utilize a transformada de Fourier e o filtro rejeita-faixa Butterworth para recuperar esta imagem. \n",
        "Na sua solução mostre: \n",
        "- a imagem original e o seu espectro;\n",
        "- o filtro rejeita-faixa projetado e o seu espectro;\n",
        "- a imagem restaurada e o seu espectro.\n"
      ]
    },
    {
      "cell_type": "markdown",
      "metadata": {
        "id": "5zJElKjGPaqY"
      },
      "source": [
        "**1.2**\n",
        "A imagem corrompida 02 é primeira imagem do planeta terra tirada do espaço (23 de agosto de 1966). Observe que a imagem está corrompida por um ruído periódico. Da mesma forma que no exemplo anterior, utilize a transformada de Fourier e um filtro de sua escolha para eliminar o ruído. Na sua solução mostre:\n",
        "\n",
        "- a imagem original e o seu espectro;\n",
        "- o filtro rejeita-faixa projetado e o seu espectro;\n",
        "- a imagem restaurada e o seu espectro;\n",
        "- o ruído e o seu espectro.  "
      ]
    },
    {
      "cell_type": "markdown",
      "metadata": {
        "id": "hQekcP3SippN"
      },
      "source": [
        "## **Problema 2**\n",
        "\n",
        "Nesta questão, utilize uma das imagens abaixo:\n",
        "- [Barbara](https://homepages.cae.wisc.edu/~ece533/images/barbara.png)\n",
        "- [Lena](https://homepages.cae.wisc.edu/~ece533/images/lena.png)\n",
        "- [Zelda](https://homepages.cae.wisc.edu/~ece533/images/zelda.png)\n",
        "\n",
        "**Obs**: Não se esqueça de transformar as respectivas imagens para escala de cinza dessas imagens, caso necessário for."
      ]
    },
    {
      "cell_type": "markdown",
      "metadata": {
        "id": "3fbtDlY1i7jO"
      },
      "source": [
        "**2.1**  Projete os seguintes filtros no domínio da frequência:\n",
        "- passa-baixas ideal;\n",
        "- passa-baixas Gaussiano;\n",
        "- passa-baixas Butterworth.\n",
        "\n",
        "Filtre (no domínio da frequência) as imagens Barbara, Lena e Zelda. Imprima as imagens para visualização.\n"
      ]
    },
    {
      "cell_type": "markdown",
      "metadata": {
        "id": "yrjHXVkljDqf"
      },
      "source": [
        "**2.2** Utilizando os filtros passa-baixas projetados na questão 2.1, obtenha os **filtros** **passa-alta** correspondentes e filtre (no domínio da frequência) as imagens Barbara, Lena e Zelda. Imprima as imagens para visualização."
      ]
    },
    {
      "cell_type": "markdown",
      "metadata": {
        "id": "kBNwUzgqmQMp"
      },
      "source": [
        "**2.3** Utilize os filtros passa-baixas e passa-altas projetados para implementar a técnica de máscara de nitidez (unsharp masking) e a técnica high boost no domínio da frequência. \n",
        "\n",
        "Considerando as três imagens acima, teste o algoritmos para k = 1 (máscara de nitidez) e para pelo menos 5 valores de k > 1, comentando sobre os diversos resultados.\n"
      ]
    }
  ]
}