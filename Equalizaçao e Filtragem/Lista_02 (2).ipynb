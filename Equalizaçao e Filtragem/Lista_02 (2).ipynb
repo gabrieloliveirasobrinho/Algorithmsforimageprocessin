{
 "cells": [
  {
   "cell_type": "markdown",
   "metadata": {
    "id": "l6IXGgQo4-Yk"
   },
   "source": [
    "\n",
    "\n",
    "# **Lista 02 Processamento Digital de Imagens**\n",
    "Professora: Mylene Farias\n",
    "\n",
    "Monitores: André da Costa e Lucas Althoff\n",
    "\n",
    "\n",
    "---\n",
    "\n"
   ]
  },
  {
   "cell_type": "markdown",
   "metadata": {},
   "source": [
    "### Bibliotecas necessárias para compilação da Lista 02"
   ]
  },
  {
   "cell_type": "code",
   "execution_count": 1,
   "metadata": {},
   "outputs": [],
   "source": [
    "import os \n",
    "import numpy as np\n",
    "import cv2\n",
    "from matplotlib import pyplot as plt"
   ]
  },
  {
   "cell_type": "code",
   "execution_count": 2,
   "metadata": {},
   "outputs": [],
   "source": [
    "from jupyterthemes import jtplot\n",
    "\n",
    "# choose which theme to inherit plotting style from\n",
    "# onedork | grade3 | oceans16 | chesterish | monokai | solarizedl | solarizedd\n",
    "jtplot.style(theme='onedork')\n",
    "\n",
    "# set \"context\" (paper, notebook, talk, poster)\n",
    "# scale font-size of ticklabels, legend, etc.\n",
    "# remove spines from x and y axes and make grid dashed\n",
    "jtplot.style(context='talk', fscale=1.4, spines=False, gridlines='--')\n",
    "\n",
    "# turn on X- and Y-axis tick marks (default=False)\n",
    "# turn off the axis grid lines (default=True)\n",
    "# and set the default figure size\n",
    "jtplot.style(ticks=True, grid=False, figsize=(6, 4.5))\n",
    "\n",
    "# reset default matplotlib rcParams\n",
    "jtplot.reset()"
   ]
  },
  {
   "cell_type": "markdown",
   "metadata": {
    "id": "GqanjBo1s3YS"
   },
   "source": [
    "## **Problema 1**: Equalização\n",
    "Para esta questão, baixe as três imagens baixo, utilizando-as como originais para os problemas a seguir.\n",
    "- [coluna](https://drive.google.com/file/d/1Qs1ZHzIs1RQqvMapyEF8XWGDc9clfOjH/view?usp=sharing)\n",
    "- [sementes](https://drive.google.com/file/d/1xgsh-pzL43w5c6mV1qdf0MjGs_TP6UW-/view?usp=sharing)\n",
    "- [lua](https://drive.google.com/file/d/1mgbxFlgWnDoNAWocSyNaOp9SioqdLC5R/view?usp=sharing)\n",
    "\n",
    "Para resolver a questão, não utilize  funções prontas do Python para realizar a equalização das imagens, como por exemplo a função equalizeHist do OpenCV. \n"
   ]
  },
  {
   "cell_type": "markdown",
   "metadata": {
    "id": "4oS9n39CBjsF"
   },
   "source": [
    "### Rodar código para criação de diretórios\n",
    "A criação de diretórios foi pensada para organizar a criação de imagens de cada questão"
   ]
  },
  {
   "cell_type": "code",
   "execution_count": 3,
   "metadata": {},
   "outputs": [],
   "source": [
    "def criarDiretorio(directory):\n",
    "    parent_dir = \".\"\n",
    "\n",
    "    path = os.path.join(parent_dir, directory) \n",
    "    os.mkdir(path) \n",
    "    print(\"Diretório '% s' foi criado\" % directory) \n"
   ]
  },
  {
   "cell_type": "markdown",
   "metadata": {
    "id": "BbGXNHtmuLUY"
   },
   "source": [
    "**1.1.** \n",
    "\n",
    "> Calcule os histogramas das imagens originais. \n",
    "\n",
    "> Implemente um algoritmo de equalização utilizando uma abordagem global, ou seja, uma abordagem baseada no histograma da imagem completa. Aplique o método de equalização global de histogramas para as duas imagens originais. \n",
    "\n",
    "> Imprima as imagens originais, as imagens equalizadas e os seus respectivos histogramas. \n",
    "\n",
    "\n"
   ]
  },
  {
   "cell_type": "code",
   "execution_count": 4,
   "metadata": {
    "scrolled": true
   },
   "outputs": [
    {
     "name": "stdout",
     "output_type": "stream",
     "text": [
      "Diretório já foi criado\n"
     ]
    }
   ],
   "source": [
    "try:\n",
    "    criarDiretorio(\"Questao1_1\")\n",
    "except:\n",
    "    print('Diretório já foi criado')"
   ]
  },
  {
   "cell_type": "code",
   "execution_count": 5,
   "metadata": {},
   "outputs": [],
   "source": [
    "def getFreqDictImage(path):\n",
    "    img = cv2.imread(path, 0)\n",
    "    width, height = img.shape\n",
    "    \n",
    "    prob_freq = np.zeros(256)\n",
    "    \n",
    "    ## Pre popular dicionario de frequencia \n",
    "    freq = dict()\n",
    "    for i in range(256):\n",
    "        freq[i] = 0\n",
    "    \n",
    "    ## Encontrar histograma\n",
    "    for i in range(width):\n",
    "        for j in range(height):\n",
    "            value = img[i,j]\n",
    "            freq[value] += 1\n",
    "            \n",
    "    return freq"
   ]
  },
  {
   "cell_type": "code",
   "execution_count": 72,
   "metadata": {},
   "outputs": [],
   "source": [
    "def equalizeHistME(path, save_path, plotPDF, plotHistogramEqualization):\n",
    "    img = cv2.imread(path, 0)\n",
    "    width, height = img.shape\n",
    "    \n",
    "    DISC_INTENSITY_LEVEL = 256\n",
    "    \n",
    "    prob_cumulative = np.zeros(DISC_INTENSITY_LEVEL)\n",
    "    cumulative = np.zeros(DISC_INTENSITY_LEVEL)\n",
    "    output = np.zeros(DISC_INTENSITY_LEVEL)\n",
    "    prob_freq = np.zeros(DISC_INTENSITY_LEVEL)\n",
    "    sum = 0\n",
    "    freq = getFreqDictImage(path)\n",
    "    \n",
    "    print(\"Shape da imagem original: {}\".format(img.shape))\n",
    "    print('Altura = ', height, 'Comprimento = ', width)\n",
    "    num_of_pixels = height*width\n",
    "    print(\"Quantidade de pixels na imagem: {}\".format(num_of_pixels))\n",
    "    \n",
    "    img_hand_equ = np.zeros(shape=(width, height), dtype='uint8')\n",
    "    print(\"Shape da imagem criada: {}\".format(img_hand_equ.shape))\n",
    "    \n",
    "    for key, value in freq.items(): \n",
    "        prob_freq[key] = value/num_of_pixels\n",
    "\n",
    "    if(plotPDF == \"Sim\"):\n",
    "        plt.stem(range(0, 256), prob_freq, use_line_collection=True);\n",
    "        plt.title('Probability Distribution Function')\n",
    "        plt.show()\n",
    "    \n",
    "    for i in range(DISC_INTENSITY_LEVEL):\n",
    "        sum = sum + freq[i]\n",
    "        cumulative[i] = sum\n",
    "        prob_cumulative[i] = cumulative[i]/num_of_pixels\n",
    "        output[i] = round(prob_cumulative[i]*255)\n",
    "    \n",
    "    if(plotHistogramEqualization == \"Sim\"):\n",
    "        plt.stem(range(0, DISC_INTENSITY_LEVEL), output, use_line_collection=True);\n",
    "        plt.title('Histogram Equalization')\n",
    "        plt.show()\n",
    "        \n",
    "    for i in range(width):\n",
    "        for j in range(height):\n",
    "            img_hand_equ[i, j] = output[img[i, j]]\n",
    "    \n",
    "    if save_path != \"Não\":\n",
    "        cv2.imwrite(save_path,img_hand_equ) \n",
    "    return img_hand_equ"
   ]
  },
  {
   "cell_type": "code",
   "execution_count": 73,
   "metadata": {},
   "outputs": [
    {
     "name": "stdout",
     "output_type": "stream",
     "text": [
      "Shape da imagem original: (488, 373)\n",
      "Altura =  373 Comprimento =  488\n",
      "Quantidade de pixels na imagem: 182024\n",
      "Shape da imagem criada: (488, 373)\n"
     ]
    }
   ],
   "source": [
    "img_hist_equ_coluna = equalizeHistME('./fig_2.png', './Questao1_1/coluna_equalizada.png', \n",
    "                                       \"Não\", \"Não\")"
   ]
  },
  {
   "cell_type": "code",
   "execution_count": 74,
   "metadata": {},
   "outputs": [
    {
     "name": "stdout",
     "output_type": "stream",
     "text": [
      "Shape da imagem original: (500, 500)\n",
      "Altura =  500 Comprimento =  500\n",
      "Quantidade de pixels na imagem: 250000\n",
      "Shape da imagem criada: (500, 500)\n"
     ]
    }
   ],
   "source": [
    "img_hist_equ_sementes = equalizeHistME('./fig_1.png', './Questao1_1/semente_equalizada.png', \n",
    "                                       \"Não\", \"Não\")"
   ]
  },
  {
   "cell_type": "code",
   "execution_count": 75,
   "metadata": {},
   "outputs": [
    {
     "name": "stdout",
     "output_type": "stream",
     "text": [
      "Shape da imagem original: (540, 466)\n",
      "Altura =  466 Comprimento =  540\n",
      "Quantidade de pixels na imagem: 251640\n",
      "Shape da imagem criada: (540, 466)\n"
     ]
    }
   ],
   "source": [
    "img_hist_equ_lua = equalizeHistME('./lua.tif', './Questao1_1/lua_equalizada.png', \n",
    "                                       \"Não\", \"Não\")"
   ]
  },
  {
   "cell_type": "markdown",
   "metadata": {},
   "source": [
    "### Comparação de resultados"
   ]
  },
  {
   "cell_type": "markdown",
   "metadata": {},
   "source": [
    "Pode-se criar uma imagem com três divisões. O primeiro quadrante é a imagem obtida com o método criado na mão acima. O segundo quadrante é a imagem inicial. E a terceira imagem é a imagem obtida com o método do próprio opencv"
   ]
  },
  {
   "cell_type": "code",
   "execution_count": 76,
   "metadata": {},
   "outputs": [],
   "source": [
    "def generateThreeInOneImage():\n",
    "    ####### Coluna #######\n",
    "    img = cv2.imread('fig_2.png', 0)\n",
    "\n",
    "    ## Imagem utilizando o método do próprio openCV\n",
    "    equ = cv2.equalizeHist(img)\n",
    "    cv2.imwrite('./Questao1_1/coluna_equalizada_opencv.png',equ) \n",
    "\n",
    "    ## Compilação das 3 imagens\n",
    "    res = np.hstack((img_hist_equ_coluna, img, equ))\n",
    "    cv2.imwrite('./Questao1_1/coluna_equalizada_opencv_juntas.png',res) \n",
    "    \n",
    "    ####### Semente #######\n",
    "    img = cv2.imread('fig_1.png', 0)\n",
    "\n",
    "    ## Imagem utilizando o método do próprio openCV\n",
    "    equ = cv2.equalizeHist(img)\n",
    "    cv2.imwrite('./Questao1_1/semente_equalizada_opencv.png',equ) \n",
    "    \n",
    "    ## Compilação das 3 imagens\n",
    "    res = np.hstack((img_hist_equ_sementes, img, equ))\n",
    "    cv2.imwrite('./Questao1_1/semente_equalizada_opencv_juntas.png',res) \n",
    "    \n",
    "    ####### Lua #######\n",
    "    img = cv2.imread('Lua.tif', 0)\n",
    "\n",
    "    ## Imagem utilizando o método do próprio openCV\n",
    "    equ = cv2.equalizeHist(img)\n",
    "    cv2.imwrite('./Questao1_1/lua_equalizada_opencv.png',equ) \n",
    "\n",
    "    ## Compilação das 3 imagens\n",
    "    res = np.hstack((img_hist_equ_lua, img, equ))\n",
    "    cv2.imwrite('./Questao1_1/lua_equalizada_opencv_juntas.png',res) \n",
    "generateThreeInOneImage()"
   ]
  },
  {
   "cell_type": "markdown",
   "metadata": {
    "id": "E42R_ixA12iV"
   },
   "source": [
    "**1.2** \n",
    "\n",
    "> Implemente um algoritmo de equalização que utilize uma abordagem baseada em histogramas locais. Ou seja, ao invés de aplicar o procedimento de equalização sobre a imagem completa, aplique-o sobre pequenas áreas da imagem (subimagens). \n",
    "\n",
    "> Aplique o método nas duas imagens originais, considerando áreas de 5x5 e 7x7 pixels. \n",
    "\n",
    "> Imprima as imagens originais, as imagens equalizadas e seus respectivos histogramas. Comente os resultados obtidos, comparando-os com\n",
    "os resultados obtidos anteriormente.\n",
    "\n"
   ]
  },
  {
   "cell_type": "code",
   "execution_count": 11,
   "metadata": {},
   "outputs": [
    {
     "name": "stdout",
     "output_type": "stream",
     "text": [
      "Diretório já foi criado\n"
     ]
    }
   ],
   "source": [
    "try:\n",
    "    criarDiretorio(\"Questao1_2\")\n",
    "except:\n",
    "    print('Diretório já foi criado')"
   ]
  },
  {
   "cell_type": "code",
   "execution_count": 54,
   "metadata": {
    "scrolled": true
   },
   "outputs": [],
   "source": [
    "def localEqualizeHistME(path, save_path, M, N):\n",
    "    img = cv2.imread(path, 0)\n",
    "    width, height = img.shape\n",
    "    \n",
    "    DISC_INTENSITY_LEVEL = 256\n",
    "    img_hand_equ = np.zeros(shape=(width, height), dtype='uint8')\n",
    "    \n",
    "    mid_val=round((M*N)/2)\n",
    "    \n",
    "    ## Find the number of rows and columns to be padded with zero\n",
    "    in_ = -1\n",
    "    for i in range(M):\n",
    "        for j in range(N):\n",
    "            in_ += 1\n",
    "            if(in_ == mid_val):\n",
    "                PadM = i\n",
    "                PadN = j\n",
    "                break\n",
    "    \n",
    "    print('PadM: ', PadM)\n",
    "    print('PadN: ', PadN)\n",
    "    \n",
    "    ## Padding the image with zero on all sides\n",
    "    B = np.pad(img, [PadM, PadN])\n",
    "    print(B.shape)\n",
    "    print('len(B[0]) - (PadM*2) = ', B.shape[0] - (PadM*2))\n",
    "    print('len(B[1]) - (PadN*2) = ', B.shape[1] - (PadN*2))\n",
    "    \n",
    "    for i in range(len(B[0]) - (PadM*2)):\n",
    "        for j in range(len(B[1]) - (PadN*2)):\n",
    "            cdf = np.zeros(DISC_INTENSITY_LEVEL)\n",
    "            inc = 0\n",
    "            for x in range(M):\n",
    "                for y in range(N):\n",
    "                    \n",
    "                    # É preciso encontrar o elemento do meio\n",
    "                    if(inc == mid_val):\n",
    "                        ele = B[i+x, j+y]\n",
    "                        \n",
    "                    pos = B[i+x, j+y]\n",
    "                    cdf[pos] = cdf[pos]+1\n",
    "                    \n",
    "                    inc+=1\n",
    "                    \n",
    "            for l in range(1, DISC_INTENSITY_LEVEL):\n",
    "                cdf[l] = cdf[l] + cdf[l-1]\n",
    "                \n",
    "            img_hand_equ[i,j] = round((cdf[ele]/(M*N))*255)\n",
    "        \n",
    "    cv2.imwrite(save_path, img_hand_equ) \n",
    "    return img_hand_equ"
   ]
  },
  {
   "cell_type": "markdown",
   "metadata": {},
   "source": [
    "#### Semente"
   ]
  },
  {
   "cell_type": "markdown",
   "metadata": {},
   "source": [
    "Janela de 5x5 e em seguida 7x7"
   ]
  },
  {
   "cell_type": "code",
   "execution_count": 55,
   "metadata": {},
   "outputs": [
    {
     "name": "stdout",
     "output_type": "stream",
     "text": [
      "PadM:  2\n",
      "PadN:  2\n",
      "(504, 504)\n",
      "len(B[0]) - (PadM*2) =  500\n",
      "len(B[1]) - (PadN*2) =  500\n"
     ]
    },
    {
     "data": {
      "text/plain": [
       "array([[255, 255, 255, ..., 255, 255, 214],\n",
       "       [255, 255, 255, ..., 224, 235, 204],\n",
       "       [255, 255, 255, ..., 153, 173, 173],\n",
       "       ...,\n",
       "       [235, 173,  20, ..., 194, 153, 194],\n",
       "       [245, 204, 184, ..., 163, 184, 153],\n",
       "       [255, 224, 204, ..., 163, 184, 173]], dtype=uint8)"
      ]
     },
     "execution_count": 55,
     "metadata": {},
     "output_type": "execute_result"
    }
   ],
   "source": [
    "localEqualizeHistME('./fig_1.png', './Questao1_2/semente_equalizada_5x5.png', 5, 5)"
   ]
  },
  {
   "cell_type": "code",
   "execution_count": 56,
   "metadata": {},
   "outputs": [
    {
     "name": "stdout",
     "output_type": "stream",
     "text": [
      "PadM:  3\n",
      "PadN:  3\n",
      "(506, 506)\n",
      "len(B[0]) - (PadM*2) =  500\n",
      "len(B[1]) - (PadN*2) =  500\n"
     ]
    },
    {
     "data": {
      "text/plain": [
       "array([[255, 255, 255, ..., 255, 255, 229],\n",
       "       [255, 255, 255, ..., 239, 239, 224],\n",
       "       [255, 255, 255, ..., 203, 203, 203],\n",
       "       ...,\n",
       "       [245, 208,  83, ..., 213, 172, 193],\n",
       "       [250, 224, 213, ..., 172, 187, 161],\n",
       "       [255, 239, 219, ..., 161, 182, 177]], dtype=uint8)"
      ]
     },
     "execution_count": 56,
     "metadata": {},
     "output_type": "execute_result"
    }
   ],
   "source": [
    "localEqualizeHistME('./fig_1.png', './Questao1_2/semente_equalizada_7x7.png', 7, 7)"
   ]
  },
  {
   "cell_type": "markdown",
   "metadata": {},
   "source": [
    "#### Lua"
   ]
  },
  {
   "cell_type": "markdown",
   "metadata": {},
   "source": [
    "Janela de 5x5 e em seguida 7x7"
   ]
  },
  {
   "cell_type": "code",
   "execution_count": 57,
   "metadata": {},
   "outputs": [
    {
     "name": "stdout",
     "output_type": "stream",
     "text": [
      "PadM:  2\n",
      "PadN:  2\n",
      "(544, 470)\n",
      "len(B[0]) - (PadM*2) =  540\n",
      "len(B[1]) - (PadN*2) =  466\n"
     ]
    },
    {
     "data": {
      "text/plain": [
       "array([[255, 255, 255, ..., 255, 255, 255],\n",
       "       [255, 255, 255, ..., 255, 255, 255],\n",
       "       [255, 255, 255, ..., 255, 255, 255],\n",
       "       ...,\n",
       "       [  0,   0,   0, ...,   0,   0,   0],\n",
       "       [  0,   0,   0, ...,   0,   0,   0],\n",
       "       [  0,   0,   0, ...,   0,   0,   0]], dtype=uint8)"
      ]
     },
     "execution_count": 57,
     "metadata": {},
     "output_type": "execute_result"
    }
   ],
   "source": [
    "localEqualizeHistME('./lua.tif', './Questao1_2/lua_equalizada_5x5.png', 5, 5)"
   ]
  },
  {
   "cell_type": "code",
   "execution_count": 58,
   "metadata": {},
   "outputs": [
    {
     "name": "stdout",
     "output_type": "stream",
     "text": [
      "PadM:  3\n",
      "PadN:  3\n",
      "(546, 472)\n",
      "len(B[0]) - (PadM*2) =  540\n",
      "len(B[1]) - (PadN*2) =  466\n"
     ]
    },
    {
     "data": {
      "text/plain": [
       "array([[255, 255, 255, ..., 255, 255, 255],\n",
       "       [255, 255, 255, ..., 255, 255, 255],\n",
       "       [255, 255, 255, ..., 255, 255, 255],\n",
       "       ...,\n",
       "       [  0,   0,   0, ...,   0,   0,   0],\n",
       "       [  0,   0,   0, ...,   0,   0,   0],\n",
       "       [  0,   0,   0, ...,   0,   0,   0]], dtype=uint8)"
      ]
     },
     "execution_count": 58,
     "metadata": {},
     "output_type": "execute_result"
    }
   ],
   "source": [
    "localEqualizeHistME('./lua.tif', './Questao1_2/lua_equalizada_7x7.png', 7, 7)"
   ]
  },
  {
   "cell_type": "markdown",
   "metadata": {},
   "source": [
    "#### Coluna"
   ]
  },
  {
   "cell_type": "markdown",
   "metadata": {},
   "source": [
    "Janela de 5x5 e em seguida 7x7"
   ]
  },
  {
   "cell_type": "code",
   "execution_count": 59,
   "metadata": {},
   "outputs": [
    {
     "name": "stdout",
     "output_type": "stream",
     "text": [
      "PadM:  2\n",
      "PadN:  2\n",
      "(492, 377)\n",
      "len(B[0]) - (PadM*2) =  488\n",
      "len(B[1]) - (PadN*2) =  373\n"
     ]
    },
    {
     "data": {
      "text/plain": [
       "array([[194, 255, 255, ..., 255, 255, 255],\n",
       "       [163, 255, 255, ..., 255, 255, 143],\n",
       "       [245, 235,  82, ..., 255, 255, 255],\n",
       "       ...,\n",
       "       [  0,   0,   0, ...,   0,   0,   0],\n",
       "       [  0,   0,   0, ...,   0,   0,   0],\n",
       "       [  0,   0,   0, ...,   0,   0,   0]], dtype=uint8)"
      ]
     },
     "execution_count": 59,
     "metadata": {},
     "output_type": "execute_result"
    }
   ],
   "source": [
    "localEqualizeHistME('./fig_2.png', './Questao1_2/coluna_equalizada_5x5.png', 5, 5)"
   ]
  },
  {
   "cell_type": "code",
   "execution_count": 60,
   "metadata": {},
   "outputs": [
    {
     "name": "stdout",
     "output_type": "stream",
     "text": [
      "PadM:  3\n",
      "PadN:  3\n",
      "(494, 379)\n",
      "len(B[0]) - (PadM*2) =  488\n",
      "len(B[1]) - (PadN*2) =  373\n"
     ]
    },
    {
     "data": {
      "text/plain": [
       "array([[203, 255, 255, ..., 255, 255, 255],\n",
       "       [182, 245, 245, ..., 255, 255, 172],\n",
       "       [245, 245, 114, ..., 255, 255, 255],\n",
       "       ...,\n",
       "       [  0,   0,   0, ...,   0,   0,   0],\n",
       "       [  0,   0,   0, ...,   0,   0,   0],\n",
       "       [  0,   0,   0, ...,   0,   0,   0]], dtype=uint8)"
      ]
     },
     "execution_count": 60,
     "metadata": {},
     "output_type": "execute_result"
    }
   ],
   "source": [
    "localEqualizeHistME('./fig_2.png', './Questao1_2/coluna_equalizada_7x7.png', 7, 7)"
   ]
  },
  {
   "cell_type": "markdown",
   "metadata": {
    "id": "9YzPTdZsCAUI"
   },
   "source": [
    "**1.3**\n",
    "\n",
    "> Escreva um código que realize uma mapeamento de histogramas (*Histogram matching*) de duas imagens (apenas 1 canal de cor - tons de cinza). Para isto, o código deve utilizar a técnica de especificação de histogramas vista na aula, utilizando o histograma de uma das imagens como o histograma original e o histograma da outra imagem como o histograma especificado. \n",
    "\n",
    "> Teste seu código com vários pares de imagens (à sua escolha). Para um resultado mais satisfatório, uma das imagens deve ter a frequência das intensidades de tons dispersa (histograma espalhado), enquanto que a outra imagem deve possuir a frequência das intensidades de tons concentrada (histograma concentrado em uma região). Não utilize imagens\n",
    "cujos tons tenham o intervalo de intensidades de tons reduzido. \n"
   ]
  },
  {
   "cell_type": "code",
   "execution_count": 61,
   "metadata": {},
   "outputs": [
    {
     "name": "stdout",
     "output_type": "stream",
     "text": [
      "Diretório 'Questao1_3' foi criado\n"
     ]
    }
   ],
   "source": [
    "try:\n",
    "    criarDiretorio(\"Questao1_3\")\n",
    "except:\n",
    "    print('Diretório já foi criado')"
   ]
  },
  {
   "cell_type": "code",
   "execution_count": 113,
   "metadata": {},
   "outputs": [],
   "source": [
    "def histogramMatching(path1, path2, save_path):\n",
    "    img1 = cv2.imread(path1, 0)\n",
    "    img2 = cv2.imread(path2, 0)\n",
    "    \n",
    "    DISC_INTENSITY_LEVEL = 256\n",
    "    \n",
    "    img_hist_1 = list(getFreqDictImage(path1).values())\n",
    "    img_hist_2 = list(getFreqDictImage(path2).values())\n",
    "    \n",
    "    M = np.zeros(DISC_INTENSITY_LEVEL)\n",
    "    cdf1 = np.cumsum(img_hist_1)/img1.size\n",
    "    cdf2 = np.cumsum(img_hist_2)/img2.size\n",
    "        \n",
    "    for i in range(256):\n",
    "        diff = abs(cdf1[i] - cdf2)\n",
    "        smallest = min(diff)\n",
    "        M[i] = np.where(diff == smallest)[0][0]\n",
    "    \n",
    "    out = M[img1]\n",
    "    cv2.imwrite(save_path, out)"
   ]
  },
  {
   "cell_type": "code",
   "execution_count": 115,
   "metadata": {},
   "outputs": [],
   "source": [
    "histogramMatching('./fig_1.png', './fig_2.png', 'Questao1_3/semente_coluna_matching.png') \n",
    "histogramMatching('./fig_2.png', './fig_1.png', 'Questao1_3/coluna_semente_matching.png') \n",
    "histogramMatching('./lena.bmp', './fig_2.png', 'Questao1_3/lena_coluna_matching.png') "
   ]
  },
  {
   "cell_type": "markdown",
   "metadata": {
    "id": "q5VDVyev6tIB"
   },
   "source": [
    "## **Problema 2**: Filtragem\n",
    "\n",
    "Para esta questão, baixe as seguintes imagens de teste:\n",
    "- [Barbara](https://homepages.cae.wisc.edu/~ece533/images/barbara.png)\n",
    "- [Lena](https://homepages.cae.wisc.edu/~ece533/images/lena.bmp)\n",
    "- [Zelda](https://homepages.cae.wisc.edu/~ece533/images/zelda.png)\n"
   ]
  },
  {
   "cell_type": "markdown",
   "metadata": {
    "id": "WF4ZJ6gR7UHh"
   },
   "source": [
    "**2.1**\n",
    "\n",
    "> Escreva um programa que execute a filtragem espacial de uma imagem. O seu programa deve permitir que o usuário entre com os coeficientes e o tamanho (n × n, n é um número ı́mpar) da máscara espacial.\n",
    "\n",
    "\n"
   ]
  },
  {
   "cell_type": "code",
   "execution_count": 118,
   "metadata": {},
   "outputs": [
    {
     "name": "stdout",
     "output_type": "stream",
     "text": [
      "Diretório 'Questao2_1' foi criado\n"
     ]
    }
   ],
   "source": [
    "try:\n",
    "    criarDiretorio(\"Questao2_1\")\n",
    "except:\n",
    "    print('Diretório já foi criado')"
   ]
  },
  {
   "cell_type": "code",
   "execution_count": 205,
   "metadata": {},
   "outputs": [],
   "source": [
    "def medianFilter(path, N):\n",
    "    import math \n",
    "    from itertools import chain \n",
    "    \n",
    "    img = cv2.imread(path)\n",
    "    img = cv2.cvtColor(img, cv2.COLOR_BGR2GRAY)\n",
    "    width, height = img.shape\n",
    "    img_out = np.zeros(shape=(width, height), dtype='uint8')\n",
    "    \n",
    "    ## Como definido na questão, as janelas devem ser iguais\n",
    "    M = N\n",
    "    \n",
    "    ## Colocar zeros na imagem\n",
    "    modify_img = np.pad(img, [math.floor(M/2), math.floor(N/2)] )\n",
    "    \n",
    "    med_indx = round((M*N)/2);\n",
    "    \n",
    "    print('len(modify_img) - M = ', len(modify_img) - M)\n",
    "    print('len(modify_img) - N = ', len(modify_img) - N)\n",
    "    print('med_indx = ', med_indx)\n",
    "    k = 0\n",
    "    for i in range(len(modify_img)-M):\n",
    "        for j in range(len(modify_img)-N):\n",
    "            temp = modify_img[i:i+M-1, j:j+N-1]\n",
    "            median = np.mean(temp, dtype=np.float32)\n",
    "            img_out[i][j] = int(median)\n",
    "            \n",
    "    cv2.imwrite('./Questao2_1/median_filter_{}x{}.png'.format(N, N), img_out) \n",
    "    return img_out"
   ]
  },
  {
   "cell_type": "code",
   "execution_count": 206,
   "metadata": {},
   "outputs": [
    {
     "name": "stdout",
     "output_type": "stream",
     "text": [
      "len(modify_img) - M =  511\n",
      "len(modify_img) - N =  511\n",
      "med_indx =  12\n",
      "(512, 512)\n"
     ]
    }
   ],
   "source": [
    "img_median_filter = medianFilter('./barbara.png', 5)\n",
    "print(img_median_filter.shape)"
   ]
  },
  {
   "cell_type": "code",
   "execution_count": 207,
   "metadata": {},
   "outputs": [
    {
     "name": "stdout",
     "output_type": "stream",
     "text": [
      "len(modify_img) - M =  511\n",
      "len(modify_img) - N =  511\n",
      "med_indx =  312\n",
      "(512, 512)\n"
     ]
    }
   ],
   "source": [
    "img_median_filter = medianFilter('./barbara.png', 25)\n",
    "print(img_median_filter.shape)"
   ]
  },
  {
   "cell_type": "code",
   "execution_count": null,
   "metadata": {},
   "outputs": [],
   "source": []
  },
  {
   "cell_type": "markdown",
   "metadata": {
    "id": "kYjUSLeke5hz"
   },
   "source": [
    "**2.2**\n",
    "\n",
    "> Utilize o programa desenvolvido no item 2.1 para implementar a técnica de realce utilizando um filtro Laplaciano. Teste o seu programa utilizando as as imagens Barbara, Lena e Zelda. Imprima as imagens para visualização. \n"
   ]
  },
  {
   "cell_type": "code",
   "execution_count": null,
   "metadata": {},
   "outputs": [],
   "source": []
  },
  {
   "cell_type": "markdown",
   "metadata": {
    "id": "lKpLKVVHm0y6"
   },
   "source": [
    "**2.3**\n",
    "\n",
    "> Utilize o seu programa de filtragem para implementar a técnica de máscara de nitidez (*unsharp masking*) e a técnica *high boost* vistas em sala de aula. Na implementação, utilize um filtro passa-baixas de sua escolha.\n",
    "\n",
    "> Considerando as três imagens acima, teste o algoritmos para *k = 1* (máscara de nitidez) e para alguns valores de *k > 1*, comentando sobre os diversos resultados. \n",
    "\n",
    "> Qual o valor de *k* que gerou o resultado mais satisfatório  para cada uma das imagens?"
   ]
  },
  {
   "cell_type": "code",
   "execution_count": null,
   "metadata": {
    "id": "nbZSUrNdoIm3"
   },
   "outputs": [],
   "source": []
  }
 ],
 "metadata": {
  "colab": {
   "name": "Lista_02.ipynb",
   "provenance": []
  },
  "kernelspec": {
   "display_name": "Python 3",
   "language": "python",
   "name": "python3"
  },
  "language_info": {
   "codemirror_mode": {
    "name": "ipython",
    "version": 3
   },
   "file_extension": ".py",
   "mimetype": "text/x-python",
   "name": "python",
   "nbconvert_exporter": "python",
   "pygments_lexer": "ipython3",
   "version": "3.7.6"
  }
 },
 "nbformat": 4,
 "nbformat_minor": 1
}
